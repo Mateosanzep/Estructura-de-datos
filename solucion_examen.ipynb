{
  "nbformat": 4,
  "nbformat_minor": 0,
  "metadata": {
    "colab": {
      "provenance": [],
      "authorship_tag": "ABX9TyOmhjrE00IBXwyQ5sbEOxjp",
      "include_colab_link": true
    },
    "kernelspec": {
      "name": "python3",
      "display_name": "Python 3"
    },
    "language_info": {
      "name": "python"
    }
  },
  "cells": [
    {
      "cell_type": "markdown",
      "metadata": {
        "id": "view-in-github",
        "colab_type": "text"
      },
      "source": [
        "<a href=\"https://colab.research.google.com/github/Mateosanzep/Estructura-de-datos/blob/main/solucion_examen.ipynb\" target=\"_parent\"><img src=\"https://colab.research.google.com/assets/colab-badge.svg\" alt=\"Open In Colab\"/></a>"
      ]
    },
    {
      "cell_type": "code",
      "execution_count": 1,
      "metadata": {
        "colab": {
          "base_uri": "https://localhost:8080/"
        },
        "id": "hjIFit8GzWjK",
        "outputId": "2b3198e5-e97e-42ec-c6b3-9a9557e18a78"
      },
      "outputs": [
        {
          "output_type": "stream",
          "name": "stdout",
          "text": [
            "1\n",
            "2\n",
            "[3, 4, 5]\n"
          ]
        }
      ],
      "source": [
        "l = [1,2,3,4,5]\n",
        "x,y,*z = l #separa directamente los valores de un arreglo en las variables y el * sirve para asignarle a ese, el resto\n",
        "print(x)\n",
        "print(y)\n",
        "print(z)"
      ]
    },
    {
      "cell_type": "code",
      "source": [
        "t = \"escanero Leo\"\n",
        "_, nombre = t.split()\n",
        "print(_) #se suele usar _ para decir que una variable no importa, o sea que es basura\n",
        "print(nombre)"
      ],
      "metadata": {
        "colab": {
          "base_uri": "https://localhost:8080/"
        },
        "id": "Q-alkVdLz04h",
        "outputId": "81cf54fd-9a58-4934-eaa6-084ab07da1ff"
      },
      "execution_count": 2,
      "outputs": [
        {
          "output_type": "stream",
          "name": "stdout",
          "text": [
            "escanero\n",
            "Leo\n"
          ]
        }
      ]
    },
    {
      "cell_type": "code",
      "source": [
        "for pila in pilas:\n",
        "  if letra<=pila:\n",
        "    pila = letra\n",
        "    break\n",
        "else: #si no entra a ningun if en el for, se va al else\n",
        "  pilas.append(letra)\n",
        "print(f\"Caso {i}: {len(pila)}\") #crea una como plantilla en la cual agreaga veriables dentro de un string"
      ],
      "metadata": {
        "id": "ZDWpXd7G0e2p"
      },
      "execution_count": null,
      "outputs": []
    },
    {
      "cell_type": "code",
      "source": [
        "from itertools import permutations\n",
        "from collections import deque\n",
        "palabra = input()\n",
        "objetivo = input()\n",
        "for p in sorted(set(permutations(\"es\"*len(palabra)))):\n",
        "  pila = deque()\n",
        "  r = \"\"\n",
        "  s = iter(palabra)\n",
        "  flag = False\n",
        "  for accion in p:\n",
        "    if accion==\"e\":\n",
        "      letra = next(s)\n",
        "      pila.append(letra)\n",
        "    if accion == \"s\":\n",
        "      if not pila:\n",
        "        flag = True\n",
        "        break\n",
        "      r=r+pila.pop()\n",
        "  if r == objetivo and not flag:\n",
        "    print(\" \".join(p))"
      ],
      "metadata": {
        "colab": {
          "base_uri": "https://localhost:8080/"
        },
        "id": "jFdrlZuJ5Fcv",
        "outputId": "e592f0d8-1cb0-44ad-bc1f-2b7873245223"
      },
      "execution_count": 8,
      "outputs": [
        {
          "output_type": "stream",
          "name": "stdout",
          "text": [
            "madam\n",
            "adamm\n",
            "e e e e s s s e s s\n",
            "e e e e s s s s e s\n",
            "e e s e s e s e s s\n",
            "e e s e s e s s e s\n"
          ]
        }
      ]
    },
    {
      "cell_type": "code",
      "source": [
        "def perm(e,s,r):\n",
        "  if e+s == 0:\n",
        "    print(r)\n",
        "    return\n",
        "  if e:\n",
        "    perm(e-1,s,r+\"e\")\n",
        "  if s:\n",
        "    perm(e,s-1,r+\"s\")\n",
        "\n",
        "s = \"amor\"\n",
        "n= len(s)\n",
        "perm(n,n,\"\")"
      ],
      "metadata": {
        "colab": {
          "base_uri": "https://localhost:8080/"
        },
        "id": "-0tjTyu45xdM",
        "outputId": "1e4bfd08-2be0-4570-8e7a-18089cc76fe1"
      },
      "execution_count": 13,
      "outputs": [
        {
          "output_type": "stream",
          "name": "stdout",
          "text": [
            "eeeessss\n",
            "eeesesss\n",
            "eeessess\n",
            "eeessses\n",
            "eeesssse\n",
            "eeseesss\n",
            "eesesess\n",
            "eesesses\n",
            "eesessse\n",
            "eesseess\n",
            "eesseses\n",
            "eessesse\n",
            "eesssees\n",
            "eesssese\n",
            "eessssee\n",
            "eseeesss\n",
            "eseesess\n",
            "eseesses\n",
            "eseessse\n",
            "eseseess\n",
            "eseseses\n",
            "esesesse\n",
            "esessees\n",
            "esessese\n",
            "esesssee\n",
            "esseeess\n",
            "esseeses\n",
            "esseesse\n",
            "essesees\n",
            "essesese\n",
            "essessee\n",
            "essseees\n",
            "essseese\n",
            "esssesee\n",
            "esssseee\n",
            "seeeesss\n",
            "seeesess\n",
            "seeesses\n",
            "seeessse\n",
            "seeseess\n",
            "seeseses\n",
            "seesesse\n",
            "seessees\n",
            "seessese\n",
            "seesssee\n",
            "seseeess\n",
            "seseeses\n",
            "seseesse\n",
            "sesesees\n",
            "sesesese\n",
            "sesessee\n",
            "sesseees\n",
            "sesseese\n",
            "sessesee\n",
            "sessseee\n",
            "sseeeess\n",
            "sseeeses\n",
            "sseeesse\n",
            "sseesees\n",
            "sseesese\n",
            "sseessee\n",
            "sseseees\n",
            "sseseese\n",
            "ssesesee\n",
            "ssesseee\n",
            "ssseeees\n",
            "ssseeese\n",
            "ssseesee\n",
            "ssseseee\n",
            "sssseeee\n"
          ]
        }
      ]
    },
    {
      "cell_type": "code",
      "source": [],
      "metadata": {
        "id": "evFP-JXl_wd-"
      },
      "execution_count": null,
      "outputs": []
    }
  ]
}