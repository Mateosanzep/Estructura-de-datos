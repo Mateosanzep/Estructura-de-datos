{
  "nbformat": 4,
  "nbformat_minor": 0,
  "metadata": {
    "colab": {
      "provenance": []
    },
    "kernelspec": {
      "name": "python3",
      "display_name": "Python 3"
    },
    "language_info": {
      "name": "python"
    }
  },
  "cells": [
    {
      "cell_type": "code",
      "execution_count": 49,
      "metadata": {
        "colab": {
          "base_uri": "https://localhost:8080/"
        },
        "id": "5GOz42aMq2Nd",
        "outputId": "e63fedc7-c4f7-4d24-a286-82e96938f270"
      },
      "outputs": [
        {
          "output_type": "stream",
          "name": "stdout",
          "text": [
            "2+3-[4-2+x(x-3])}\n",
            "Error en:  14\n"
          ]
        }
      ],
      "source": [
        "from ast import Return\n",
        "from collections import deque\n",
        "pila =deque()\n",
        "s = input()\n",
        "bal = True\n",
        "for index, char in enumerate(s):\n",
        "  if char in \"({[<\":\n",
        "    pila.append((index,char))\n",
        "    continue\n",
        "  elif char in \")}]>\":\n",
        "    if len(pila) == 0:\n",
        "      bal = False\n",
        "      print(\"Error en \", index)\n",
        "      break\n",
        "\n",
        "    elif char == \")\" and pila.pop()[1]==\"(\":\n",
        "      bal = True\n",
        "    elif char == \"}\" and pila.pop()[1]==\"{\":\n",
        "      bal = True\n",
        "    elif char == \"]\" and pila.pop()[1]==\"[\":\n",
        "      bal = True\n",
        "    elif char == \">\" and pila.pop()[1]==\"<\":\n",
        "      bal = True\n",
        "    else:\n",
        "      if len(pila) != 0:\n",
        "        bal = False\n",
        "        print(\"Error en \", index)\n",
        "        break\n",
        "      bal = False\n",
        "      print(\"Error en \", index)\n",
        "      break\n",
        "if len(pila) != 0 and bal == True:\n",
        "  bal = False\n",
        "  print(\"Error en \", pila[0][0])\n",
        "if bal == True:\n",
        "  print(\"Balanceada\")"
      ]
    },
    {
      "cell_type": "code",
      "source": [
        "s1 = \"23 + 3\"\n",
        "for c in s.split():\n",
        "  print(c)"
      ],
      "metadata": {
        "id": "InbYBFcexmd1",
        "colab": {
          "base_uri": "https://localhost:8080/"
        },
        "outputId": "3b559c76-273d-42ab-ee1b-70bb86d28af0"
      },
      "execution_count": 20,
      "outputs": [
        {
          "output_type": "stream",
          "name": "stdout",
          "text": [
            "23\n",
            "+\n",
            "3\n"
          ]
        }
      ]
    },
    {
      "cell_type": "code",
      "source": [
        "#Slice\n",
        "s4 = \"murcielago\"\n",
        "s4[2:8:2]"
      ],
      "metadata": {
        "colab": {
          "base_uri": "https://localhost:8080/",
          "height": 36
        },
        "id": "F2-h9y0BDUhH",
        "outputId": "14fc7ea2-c339-4aba-b8e5-d84f63bea660"
      },
      "execution_count": 41,
      "outputs": [
        {
          "output_type": "execute_result",
          "data": {
            "text/plain": [
              "'ril'"
            ],
            "application/vnd.google.colaboratory.intrinsic+json": {
              "type": "string"
            }
          },
          "metadata": {},
          "execution_count": 41
        }
      ]
    },
    {
      "cell_type": "code",
      "source": [
        "s4[6:2:-1]"
      ],
      "metadata": {
        "colab": {
          "base_uri": "https://localhost:8080/",
          "height": 36
        },
        "id": "iBrhkOMpJe6Q",
        "outputId": "35e9aa98-b273-4776-e5bb-59d21e90a233"
      },
      "execution_count": 46,
      "outputs": [
        {
          "output_type": "execute_result",
          "data": {
            "text/plain": [
              "'leic'"
            ],
            "application/vnd.google.colaboratory.intrinsic+json": {
              "type": "string"
            }
          },
          "metadata": {},
          "execution_count": 46
        }
      ]
    },
    {
      "cell_type": "code",
      "source": [
        "s4[::-1]"
      ],
      "metadata": {
        "colab": {
          "base_uri": "https://localhost:8080/",
          "height": 36
        },
        "id": "I94OhwbiK5Ec",
        "outputId": "b6a4dd33-50cf-4b24-98c4-16f2a2e615f7"
      },
      "execution_count": 47,
      "outputs": [
        {
          "output_type": "execute_result",
          "data": {
            "text/plain": [
              "'ogaleicrum'"
            ],
            "application/vnd.google.colaboratory.intrinsic+json": {
              "type": "string"
            }
          },
          "metadata": {},
          "execution_count": 47
        }
      ]
    },
    {
      "cell_type": "code",
      "source": [
        "s5 = \"hola-como-estas\"\n",
        "s5 = s5.split(\"-\")\n",
        "s5"
      ],
      "metadata": {
        "colab": {
          "base_uri": "https://localhost:8080/"
        },
        "id": "cwHwYxUxK9mN",
        "outputId": "9db4d772-f0bb-40c0-e0e4-249e85acb9ab"
      },
      "execution_count": 51,
      "outputs": [
        {
          "output_type": "execute_result",
          "data": {
            "text/plain": [
              "['hola', 'como', 'estas']"
            ]
          },
          "metadata": {},
          "execution_count": 51
        }
      ]
    },
    {
      "cell_type": "code",
      "source": [
        "\" \".join(s5)"
      ],
      "metadata": {
        "colab": {
          "base_uri": "https://localhost:8080/",
          "height": 36
        },
        "id": "369Ao3cPNnNj",
        "outputId": "af640668-aa55-4018-8d09-cfb72f9d300a"
      },
      "execution_count": 52,
      "outputs": [
        {
          "output_type": "execute_result",
          "data": {
            "text/plain": [
              "'hola como estas'"
            ],
            "application/vnd.google.colaboratory.intrinsic+json": {
              "type": "string"
            }
          },
          "metadata": {},
          "execution_count": 52
        }
      ]
    },
    {
      "cell_type": "code",
      "source": [
        "lista = [\"Mateo\", \"Juan\", \"Pepe\", \"Pedro\"]\n",
        "edad = [\"3\",\"5\",\"2\",\"6\"]"
      ],
      "metadata": {
        "id": "TC8MOBigNsqD"
      },
      "execution_count": 63,
      "outputs": []
    },
    {
      "cell_type": "code",
      "source": [
        "print(\"nombre / edad\")\n",
        "for nombre, edad in zip(lista, edad):\n",
        "  print(nombre+\"\\t\"+edad)"
      ],
      "metadata": {
        "colab": {
          "base_uri": "https://localhost:8080/"
        },
        "id": "42OEoH6ZO3ey",
        "outputId": "81f52328-e55b-4cb7-d293-85f73c82a597"
      },
      "execution_count": 58,
      "outputs": [
        {
          "output_type": "stream",
          "name": "stdout",
          "text": [
            "nombre / edad\n",
            "Mateo\t3\n",
            "Juan\t5\n",
            "Pepe\t2\n",
            "Pedro\t6\n"
          ]
        }
      ]
    },
    {
      "cell_type": "code",
      "source": [
        "print(\"nombre\".ljust(15)+\"edad\")\n",
        "print(\"*\"*20)\n",
        "for nombre, edad in zip(lista, edad):\n",
        "  print(nombre.ljust(15, \"-\"),edad)"
      ],
      "metadata": {
        "colab": {
          "base_uri": "https://localhost:8080/"
        },
        "id": "edFrge7sO80h",
        "outputId": "bf5e7177-22b6-4cc7-d0b0-b8f5386a4784"
      },
      "execution_count": 64,
      "outputs": [
        {
          "output_type": "stream",
          "name": "stdout",
          "text": [
            "nombre         edad\n",
            "********************\n",
            "Mateo---------- 3\n",
            "Juan----------- 5\n",
            "Pepe----------- 2\n",
            "Pedro---------- 6\n"
          ]
        }
      ]
    },
    {
      "cell_type": "code",
      "source": [],
      "metadata": {
        "id": "d9kVHFkUQF4A"
      },
      "execution_count": null,
      "outputs": []
    }
  ]
}