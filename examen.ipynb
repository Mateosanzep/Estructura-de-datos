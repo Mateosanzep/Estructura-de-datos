{
  "nbformat": 4,
  "nbformat_minor": 0,
  "metadata": {
    "colab": {
      "provenance": [],
      "authorship_tag": "ABX9TyNA0ra3phwRYnuRLVcbgJ+i",
      "include_colab_link": true
    },
    "kernelspec": {
      "name": "python3",
      "display_name": "Python 3"
    },
    "language_info": {
      "name": "python"
    }
  },
  "cells": [
    {
      "cell_type": "markdown",
      "metadata": {
        "id": "view-in-github",
        "colab_type": "text"
      },
      "source": [
        "<a href=\"https://colab.research.google.com/github/Mateosanzep/Estructura-de-datos/blob/main/examen.ipynb\" target=\"_parent\"><img src=\"https://colab.research.google.com/assets/colab-badge.svg\" alt=\"Open In Colab\"/></a>"
      ]
    },
    {
      "cell_type": "code",
      "execution_count": 20,
      "metadata": {
        "colab": {
          "base_uri": "https://localhost:8080/"
        },
        "id": "ax6mh4mnLHuj",
        "outputId": "2530f12b-d447-42a3-ab33-7952fa412792"
      },
      "outputs": [
        {
          "name": "stdout",
          "output_type": "stream",
          "text": [
            "AB\n",
            "[['A']]\n",
            "[['A', 'B']]\n",
            "fin\n"
          ]
        }
      ],
      "source": [
        "ban = True\n",
        "while ban == True:\n",
        "  ins = input()\n",
        "  str1 = [ins]\n",
        "  pila = []\n",
        "  if ins == \"fin\":\n",
        "    ban = False\n",
        "  else:\n",
        "    pilaApoyo = []\n",
        "    for i in range(len(str1[0])):\n",
        "      pilaApoyo.append(str1[0][i])\n",
        "    for i in range(len(pilaApoyo)):\n",
        "      if len(pila) == 0:\n",
        "        pila.append([pilaApoyo[i]])\n",
        "      else:\n",
        "        for j in range(len(pila)):\n",
        "          if ord(pila[j][-1]) <= ord(pilaApoyo[i]):\n",
        "            pila[j].append(pilaApoyo[i])\n",
        "      print(pila)\n"
      ]
    },
    {
      "cell_type": "code",
      "source": [
        "ord(\"B\")"
      ],
      "metadata": {
        "colab": {
          "base_uri": "https://localhost:8080/"
        },
        "id": "jolODEFDLWFw",
        "outputId": "969affcf-806f-4315-9843-644dcedfd5e7"
      },
      "execution_count": 18,
      "outputs": [
        {
          "output_type": "execute_result",
          "data": {
            "text/plain": [
              "66"
            ]
          },
          "metadata": {},
          "execution_count": 18
        }
      ]
    },
    {
      "cell_type": "code",
      "source": [],
      "metadata": {
        "id": "9a_Tbk-uSVi1"
      },
      "execution_count": null,
      "outputs": []
    }
  ]
}