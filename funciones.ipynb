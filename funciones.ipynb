{
 "cells": [
  {
   "cell_type": "code",
   "execution_count": 7,
   "id": "20774979-43db-42cd-9f3d-851e8304f92c",
   "metadata": {},
   "outputs": [],
   "source": [
    "arr = [2, 3, 5]\n",
    "capacidad = 3\n",
    "tamaño = 3\n",
    "def insertar_elemento(x):\n",
    "    global arr, capacidad, tamaño\n",
    "    if capacidad == tamaño:\n",
    "        capacidad = 2*capacidad\n",
    "    nuevo_arr = [0]*capacidad\n",
    "    for i in range(0, tamaño):\n",
    "        nuevo_arr[i] = arr[i]\n",
    "    nuevo_arr[tamaño]=x\n",
    "    tamaño += 1\n",
    "    arr = nuevo_arr"
   ]
  },
  {
   "cell_type": "code",
   "execution_count": 11,
   "id": "d89ad5ba-1a40-4bda-bf29-4a59e51959a3",
   "metadata": {},
   "outputs": [
    {
     "name": "stdout",
     "output_type": "stream",
     "text": [
      "[2, 3, 5, 19, 12, 11, 10, 0, 0, 0, 0, 0]\n"
     ]
    }
   ],
   "source": [
    "insertar_elemento(10)\n",
    "print(arr)"
   ]
  },
  {
   "cell_type": "code",
   "execution_count": 12,
   "id": "0353b94e-53ef-4413-b908-a0bab4accf28",
   "metadata": {},
   "outputs": [],
   "source": [
    "#clases"
   ]
  },
  {
   "cell_type": "code",
   "execution_count": 95,
   "id": "b3212eb0-ab99-4be1-9647-b0f0fb2d7a23",
   "metadata": {},
   "outputs": [],
   "source": [
    "class Arreglo_Dinamico:\n",
    "    def __init__(self):\n",
    "        self.datos = []\n",
    "        self.capacidad = 0\n",
    "        self.tamaño = 0\n",
    "    def insertar_elemento(self, x):\n",
    "        if self.capacidad == 0:\n",
    "            self.capacidad = 1\n",
    "        if self.capacidad == self.tamaño:\n",
    "            self.capacidad = 2*self.capacidad\n",
    "        nuevo_arr = [0]*self.capacidad\n",
    "        for i in range(0, self.tamaño):\n",
    "            nuevo_arr[i] = self.datos[i]\n",
    "        nuevo_arr[self.tamaño]=x\n",
    "        self.tamaño += 1\n",
    "        self.datos = nuevo_arr\n",
    "    def eliminar_elemento(self):\n",
    "        self.tamaño -= 1\n",
    "        if (self.capacidad/2) == (self.tamaño):\n",
    "            self.capacidad = round(self.capacidad*(3/4))\n",
    "        nuevo_arr = [0]*self.capacidad\n",
    "        for i in range(0, self.tamaño):\n",
    "            nuevo_arr[i] = self.datos[i]\n",
    "        self.datos = nuevo_arr\n",
    "    def __repr__(self): #metodos magicos\n",
    "        return str(self.datos[0:self.tamaño])"
   ]
  },
  {
   "cell_type": "code",
   "execution_count": 98,
   "id": "10e0f88f-d84e-4d5d-9da2-efcd520e7d9f",
   "metadata": {},
   "outputs": [
    {
     "name": "stdout",
     "output_type": "stream",
     "text": [
      "[]\n",
      "[1]\n",
      "[1, 2]\n",
      "[1, 2, 3, 0]\n",
      "[1, 2, 3, 4]\n",
      "[1, 2, 3, 4, 5, 0, 0, 0]\n",
      "[1, 2, 3, 4, 5, 6, 0, 0]\n",
      "[1, 2, 3, 4, 5, 6, 7, 0]\n",
      "[1, 2, 3, 4, 5, 6, 7, 8]\n",
      "[1, 2, 3, 4, 5, 6, 7, 8, 9, 0, 0, 0, 0, 0, 0, 0]\n",
      "[1, 2, 3, 4, 5, 6, 7, 8, 9, 10, 0, 0, 0, 0, 0, 0]\n",
      "10 16\n",
      "[1, 2, 3, 4, 5, 6, 7, 8, 9, 0, 0, 0, 0, 0, 0, 0]\n",
      "[1, 2, 3, 4, 5, 6, 7, 8, 0, 0, 0, 0]\n",
      "[1, 2, 3, 4, 5, 6, 7, 0, 0, 0, 0, 0]\n",
      "[1, 2, 3, 4, 5, 6, 0, 0, 0]\n",
      "[1, 2, 3, 4, 5, 0, 0, 0, 0]\n",
      "5 9\n"
     ]
    }
   ],
   "source": [
    "a = Arreglo_Dinamico()\n",
    "print(a.datos)\n",
    "a.insertar_elemento(1)\n",
    "print(a.datos)\n",
    "a.insertar_elemento(2)\n",
    "print(a.datos)\n",
    "a.insertar_elemento(3)\n",
    "print(a.datos)\n",
    "a.insertar_elemento(4)\n",
    "print(a.datos)\n",
    "a.insertar_elemento(5)\n",
    "print(a.datos)\n",
    "a.insertar_elemento(6)\n",
    "print(a.datos)\n",
    "a.insertar_elemento(7)\n",
    "print(a.datos)\n",
    "a.insertar_elemento(8)\n",
    "print(a.datos)\n",
    "a.insertar_elemento(9)\n",
    "print(a.datos)\n",
    "a.insertar_elemento(10)\n",
    "print(a.datos)\n",
    "print(a.tamaño, a.capacidad)\n",
    "a.eliminar_elemento()\n",
    "print(a.datos)\n",
    "a.eliminar_elemento()\n",
    "print(a.datos)\n",
    "a.eliminar_elemento()\n",
    "print(a.datos)\n",
    "a.eliminar_elemento()\n",
    "print(a.datos)\n",
    "a.eliminar_elemento()\n",
    "print(a.datos)\n",
    "print(a.tamaño, a.capacidad)"
   ]
  },
  {
   "cell_type": "code",
   "execution_count": 42,
   "id": "11b9fd7c-41ae-4923-b16b-3e8bc6b63783",
   "metadata": {},
   "outputs": [
    {
     "name": "stdout",
     "output_type": "stream",
     "text": [
      "[2, 3, 4, 5, 6]\n"
     ]
    }
   ],
   "source": [
    "print(a)"
   ]
  },
  {
   "cell_type": "code",
   "execution_count": 43,
   "id": "cfe1898d-3168-4f27-bc52-47b5efb34091",
   "metadata": {},
   "outputs": [
    {
     "data": {
      "text/plain": [
       "[2, 3, 4, 5, 6, 0, 0, 0]"
      ]
     },
     "execution_count": 43,
     "metadata": {},
     "output_type": "execute_result"
    }
   ],
   "source": [
    "a.datos"
   ]
  },
  {
   "cell_type": "code",
   "execution_count": null,
   "id": "a22db7f3-edb7-49fa-b003-d7b1a4c104c2",
   "metadata": {},
   "outputs": [],
   "source": []
  }
 ],
 "metadata": {
  "kernelspec": {
   "display_name": "Python 3 (ipykernel)",
   "language": "python",
   "name": "python3"
  },
  "language_info": {
   "codemirror_mode": {
    "name": "ipython",
    "version": 3
   },
   "file_extension": ".py",
   "mimetype": "text/x-python",
   "name": "python",
   "nbconvert_exporter": "python",
   "pygments_lexer": "ipython3",
   "version": "3.13.5"
  }
 },
 "nbformat": 4,
 "nbformat_minor": 5
}
