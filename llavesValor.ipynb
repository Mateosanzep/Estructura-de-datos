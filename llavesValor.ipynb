{
  "nbformat": 4,
  "nbformat_minor": 0,
  "metadata": {
    "colab": {
      "provenance": [],
      "authorship_tag": "ABX9TyPYqVMyEWTu4dEp2CACPuyL",
      "include_colab_link": true
    },
    "kernelspec": {
      "name": "python3",
      "display_name": "Python 3"
    },
    "language_info": {
      "name": "python"
    }
  },
  "cells": [
    {
      "cell_type": "markdown",
      "metadata": {
        "id": "view-in-github",
        "colab_type": "text"
      },
      "source": [
        "<a href=\"https://colab.research.google.com/github/Mateosanzep/Estructura-de-datos/blob/main/llavesValor.ipynb\" target=\"_parent\"><img src=\"https://colab.research.google.com/assets/colab-badge.svg\" alt=\"Open In Colab\"/></a>"
      ]
    },
    {
      "cell_type": "code",
      "execution_count": 11,
      "metadata": {
        "id": "kT7jrh0q8wci"
      },
      "outputs": [],
      "source": [
        "class Tabla:\n",
        "  def __init__(self, tam=100):\n",
        "    self.tam = tam\n",
        "    self.datos = [[] for _ in range(tam)]\n",
        "  def insertar(self, llave, valor):\n",
        "    pos = hash(llave)%self.tam\n",
        "    casilla = self.datos[pos]\n",
        "    for x,y in casilla:\n",
        "      if x == llave:\n",
        "        print(\"Ya existe\")\n",
        "        break\n",
        "    else:\n",
        "      casilla.append((llave,valor))\n",
        "  def buscar(self, llave):\n",
        "    pos = hash(llave)%self.tam\n",
        "    casilla = self.datos[pos]\n",
        "    for x,y in casilla:\n",
        "      if x == llave:\n",
        "        return y\n",
        "    return None\n",
        "  def __setitem__(self, llave, valor):\n",
        "    self.insertar(llave,valor)\n",
        "  def __getitem__(self,llave):\n",
        "    return self.buscar(llave)"
      ]
    },
    {
      "cell_type": "code",
      "source": [
        "tabla = Tabla(10)\n",
        "tabla.insertar(\"Leo\", \"Pozole\")\n",
        "tabla.insertar(\"Pepe\", \"Pan\")\n",
        "tabla.insertar(\"Juan\", \"Fruta\")\n",
        "print(tabla.datos)\n",
        "for x in [\"Pepe\", \"Leo\", \"Juan\", \"Gael\"]:\n",
        "  print(f\"A {x} le gusta comer {tabla.buscar(x)}\")"
      ],
      "metadata": {
        "colab": {
          "base_uri": "https://localhost:8080/"
        },
        "id": "YxX79dlZ9w-b",
        "outputId": "1c230a3b-09b6-448c-dea7-6bc5ed4321db"
      },
      "execution_count": 10,
      "outputs": [
        {
          "output_type": "stream",
          "name": "stdout",
          "text": [
            "[[], [], [('Pepe', 'Pan')], [], [], [], [('Leo', 'Pozole'), ('Juan', 'Fruta')], [], [], []]\n",
            "A Pepe le gusta comer Pan\n",
            "A Leo le gusta comer Pozole\n",
            "A Juan le gusta comer Fruta\n",
            "A Gael le gusta comer None\n"
          ]
        }
      ]
    },
    {
      "cell_type": "code",
      "source": [
        "tabla = Tabla(10)\n",
        "tabla[\"Leo\"] = \"Pozole\"\n",
        "tabla[\"Pepe\"] = \"Pan\"\n",
        "tabla[\"Juan\"] = \"Fruta\"\n",
        "for x in [\"Pepe\", \"Leo\", \"Juan\", \"Gael\"]:\n",
        "  print(f\"A {x} le gusta comer {tabla[x]}\")"
      ],
      "metadata": {
        "colab": {
          "base_uri": "https://localhost:8080/"
        },
        "id": "BHvBUCIjAgw1",
        "outputId": "11b1baf9-4c56-4500-9d47-869fd77b2879"
      },
      "execution_count": 12,
      "outputs": [
        {
          "output_type": "stream",
          "name": "stdout",
          "text": [
            "A Pepe le gusta comer Pan\n",
            "A Leo le gusta comer Pozole\n",
            "A Juan le gusta comer Fruta\n",
            "A Gael le gusta comer None\n"
          ]
        }
      ]
    },
    {
      "cell_type": "code",
      "source": [
        "tabla = dict()\n",
        "tabla[\"Leo\"] = \"Pozole\"\n",
        "tabla[\"Pepe\"] = \"Pan\"\n",
        "tabla[\"Juan\"] = \"Fruta\"\n",
        "for x in [\"Pepe\", \"Leo\", \"Juan\"]:\n",
        "  print(f\"A {x} le gusta comer {tabla[x]}\")"
      ],
      "metadata": {
        "colab": {
          "base_uri": "https://localhost:8080/"
        },
        "id": "lPT_kl0YD4aa",
        "outputId": "7fcb37e2-ccd8-41b0-adc9-e0c4ecb85538"
      },
      "execution_count": 14,
      "outputs": [
        {
          "output_type": "stream",
          "name": "stdout",
          "text": [
            "A Pepe le gusta comer Pan\n",
            "A Leo le gusta comer Pozole\n",
            "A Juan le gusta comer Fruta\n"
          ]
        }
      ]
    },
    {
      "cell_type": "code",
      "source": [
        "tabla = {\"Gael\":\"Sushi\", \"Diego\":\"Tacos\", \"Gallo\":\"Torta\"}\n",
        "tabla[\"Mateo\"] = \"Mole\"\n",
        "print(tabla)\n",
        "print(tabla.keys())\n",
        "lista = tabla.keys()\n",
        "for x in lista:\n",
        "  print(f\"A {x} le gusta comer {tabla[x]}\")\n",
        "\"Mateo\" in tabla"
      ],
      "metadata": {
        "colab": {
          "base_uri": "https://localhost:8080/"
        },
        "id": "Fyl8_SloFBDt",
        "outputId": "e38329c0-d743-4a39-ffe4-4fb39cc2a764"
      },
      "execution_count": 15,
      "outputs": [
        {
          "output_type": "stream",
          "name": "stdout",
          "text": [
            "{'Gael': 'Sushi', 'Diego': 'Tacos', 'Gallo': 'Torta', 'Mateo': 'Mole'}\n",
            "dict_keys(['Gael', 'Diego', 'Gallo', 'Mateo'])\n",
            "A Gael le gusta comer Sushi\n",
            "A Diego le gusta comer Tacos\n",
            "A Gallo le gusta comer Torta\n",
            "A Mateo le gusta comer Mole\n"
          ]
        },
        {
          "output_type": "execute_result",
          "data": {
            "text/plain": [
              "True"
            ]
          },
          "metadata": {},
          "execution_count": 15
        }
      ]
    },
    {
      "cell_type": "markdown",
      "source": [
        "Cualquier cosa no modificable, puede ser llave"
      ],
      "metadata": {
        "id": "93k_7oJwGmuV"
      }
    },
    {
      "cell_type": "code",
      "source": [
        "# coords = [1,2] #Es modificable\n",
        "# # tabla = dict()\n",
        "# tabla[coords] = \"Azul\"\n",
        "coords = (1,2) #Es una tupla ()\n",
        "tabla = dict()\n",
        "tabla[coords] = \"Azul\"\n",
        "tabla"
      ],
      "metadata": {
        "colab": {
          "base_uri": "https://localhost:8080/"
        },
        "id": "765fcgnIG72d",
        "outputId": "2c831279-a125-4f52-8346-dd082ba53328"
      },
      "execution_count": 18,
      "outputs": [
        {
          "output_type": "execute_result",
          "data": {
            "text/plain": [
              "{(1, 2): 'Azul'}"
            ]
          },
          "metadata": {},
          "execution_count": 18
        }
      ]
    }
  ]
}