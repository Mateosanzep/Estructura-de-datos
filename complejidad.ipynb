{
 "cells": [
  {
   "cell_type": "code",
   "execution_count": 2,
   "id": "65ed6179-b048-4b33-aa40-188a90a62e0f",
   "metadata": {},
   "outputs": [
    {
     "name": "stdout",
     "output_type": "stream",
     "text": [
      "9.95 ns ± 0.0742 ns per loop (mean ± std. dev. of 7 runs, 100,000,000 loops each)\n"
     ]
    }
   ],
   "source": [
    "%%timeit\n",
    "1+2+3+4+5+6+7+8+9+10"
   ]
  },
  {
   "cell_type": "code",
   "execution_count": null,
   "id": "abe0d71c-51ce-40b2-aecb-a8f65bde05ce",
   "metadata": {},
   "outputs": [],
   "source": [
    "\n",
    "i=1\n",
    "n=1_000_000_000\n",
    "suma = 0\n",
    "while i<=n:\n",
    "    suma+=i\n",
    "    i = i+1"
   ]
  },
  {
   "cell_type": "code",
   "execution_count": 21,
   "id": "e527518d-2663-43df-8224-33c39313e064",
   "metadata": {},
   "outputs": [
    {
     "data": {
      "text/plain": [
       "500000000500000000"
      ]
     },
     "execution_count": 21,
     "metadata": {},
     "output_type": "execute_result"
    }
   ],
   "source": [
    "n=1_000_000_000\n",
    "n*(n+1)//2"
   ]
  },
  {
   "cell_type": "code",
   "execution_count": null,
   "id": "ee89b799-5de1-4254-aad6-b4f51f2841c8",
   "metadata": {},
   "outputs": [],
   "source": [
    "#arreglos"
   ]
  },
  {
   "cell_type": "code",
   "execution_count": 8,
   "id": "57912c51-35e4-4952-aa7c-ee36d5ff5170",
   "metadata": {},
   "outputs": [
    {
     "data": {
      "text/plain": [
       "6"
      ]
     },
     "execution_count": 8,
     "metadata": {},
     "output_type": "execute_result"
    }
   ],
   "source": [
    "a=[3,6,9,12,15,18]\n",
    "#obtener un elemento\n",
    "a[0]\n",
    "#cambiar elemento\n",
    "a[1] = 20\n",
    "#ultimo elemento\n",
    "a[5]\n",
    "a[len(a)-1]\n",
    "a[-1]\n",
    "#cuanto mide\n",
    "len(a)"
   ]
  },
  {
   "cell_type": "code",
   "execution_count": null,
   "id": "e9e5c457-3fe2-49b8-85be-721762949673",
   "metadata": {},
   "outputs": [],
   "source": []
  }
 ],
 "metadata": {
  "kernelspec": {
   "display_name": "Python 3 (ipykernel)",
   "language": "python",
   "name": "python3"
  },
  "language_info": {
   "codemirror_mode": {
    "name": "ipython",
    "version": 3
   },
   "file_extension": ".py",
   "mimetype": "text/x-python",
   "name": "python",
   "nbconvert_exporter": "python",
   "pygments_lexer": "ipython3",
   "version": "3.13.5"
  }
 },
 "nbformat": 4,
 "nbformat_minor": 5
}
