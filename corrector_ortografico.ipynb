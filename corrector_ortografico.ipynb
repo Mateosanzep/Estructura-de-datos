{
  "nbformat": 4,
  "nbformat_minor": 0,
  "metadata": {
    "colab": {
      "provenance": [],
      "authorship_tag": "ABX9TyNrQ4ybUIw9sWn844a5qjog",
      "include_colab_link": true
    },
    "kernelspec": {
      "name": "python3",
      "display_name": "Python 3"
    },
    "language_info": {
      "name": "python"
    }
  },
  "cells": [
    {
      "cell_type": "markdown",
      "metadata": {
        "id": "view-in-github",
        "colab_type": "text"
      },
      "source": [
        "<a href=\"https://colab.research.google.com/github/Mateosanzep/Estructura-de-datos/blob/main/corrector_ortografico.ipynb\" target=\"_parent\"><img src=\"https://colab.research.google.com/assets/colab-badge.svg\" alt=\"Open In Colab\"/></a>"
      ]
    },
    {
      "cell_type": "code",
      "execution_count": 40,
      "metadata": {
        "id": "cUnF_-ZhKgxM"
      },
      "outputs": [],
      "source": [
        "def Corrector(palabra):\n",
        "  file = open(\"lemario.txt\")\n",
        "  datos = file.readlines()\n",
        "\n",
        "  lemario = set()\n",
        "  for dato in datos:\n",
        "    lemario.add(dato.rstrip(\"\\n\"))\n",
        "\n",
        "  letras = [\"a\", \"b\", \"c\", \"u\", 'd', 'e', 'f', 'g', 'h', 'i', 'j', 'k', 'l', 'm', 'n', 'ñ', 'o', 'p', 'q', 'r', 's', 't', 'v', 'w', 'x', 'y', 'z',\n",
        "            'A', 'B', 'C', 'D', 'E', 'F', 'G', 'H', 'I', 'J', 'K', 'L', 'M', 'N', 'Ñ', 'O', 'P', 'Q', 'R', 'S', 'T', 'V', 'W', 'X', 'Y', 'Z',\n",
        "            'á', 'é', 'í', 'ó', 'ú', 'ü', 'ñ', 'Á', 'É', 'Í', 'Ó', 'Ú', 'Ü']\n",
        "\n",
        "  variaciones = set()\n",
        "\n",
        "  #Hacer swap con dos letras pegadas\n",
        "  for i in range(len(palabra)-1):\n",
        "    nueva = palabra[:i] + palabra[i+1] + palabra[i] + palabra[i+2:]\n",
        "    variaciones.add(nueva)\n",
        "\n",
        "  #Añadir una letra donde sea\n",
        "  for i in range(len(palabra)+1):\n",
        "    for letra in letras:\n",
        "      nueva = palabra[:i] + letra + palabra[i:]\n",
        "      variaciones.add(nueva)\n",
        "\n",
        "  #Quitar una letra la que sea\n",
        "  for i in range(len(palabra)):\n",
        "    nueva = palabra[:i] + palabra[i+1:]\n",
        "    variaciones.add(nueva)\n",
        "\n",
        "  #Cambiar una letra por la que sea en el abc\n",
        "  for i in range(len(palabra)):\n",
        "    for letra in letras:\n",
        "      nueva = palabra[:i] + letra + palabra[i+1:]\n",
        "      variaciones.add(nueva)\n",
        "\n",
        "  #comparar que las palabras en la variacion tambien esten en lemario\n",
        "  return variaciones & lemario"
      ]
    },
    {
      "cell_type": "code",
      "source": [
        "txt = input()\n",
        "palabras = txt.split()\n",
        "correguida = \"\"\n",
        "for pal in palabras:\n",
        "  options = Corrector(pal)\n",
        "  options_list = list(options)\n",
        "  n = 0\n",
        "  for i in options_list:\n",
        "    print(f\"{n}.- {i}\")\n",
        "    n += 1\n",
        "  print(f\"{n}.- dejar asi\")\n",
        "  elec = int(input())\n",
        "  if elec == n:\n",
        "    correguida += pal + \" \"\n",
        "  else:\n",
        "    correguida += options_list[elec] + \" \"\n",
        "print(correguida)"
      ],
      "metadata": {
        "colab": {
          "base_uri": "https://localhost:8080/"
        },
        "id": "HUPaPmA0MvZd",
        "outputId": "408240f7-ad75-41ed-e9fc-faadffb1bb5f"
      },
      "execution_count": 51,
      "outputs": [
        {
          "output_type": "stream",
          "name": "stdout",
          "text": [
            "hule coom\n",
            "0.- bule\n",
            "1.- mule\n",
            "2.- hule\n",
            "3.- hulte\n",
            "4.- hale\n",
            "5.- tule\n",
            "6.- hupe\n",
            "7.- dejar asi\n",
            "5\n",
            "0.- boom\n",
            "1.- como\n",
            "2.- dejar asi\n",
            "0\n",
            "tule boom \n"
          ]
        }
      ]
    },
    {
      "cell_type": "code",
      "source": [],
      "metadata": {
        "id": "65Vm8GKgcgwY"
      },
      "execution_count": null,
      "outputs": []
    }
  ]
}