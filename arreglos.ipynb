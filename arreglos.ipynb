{
 "cells": [
  {
   "cell_type": "code",
   "execution_count": 25,
   "id": "f9c8226d-0928-4c77-a21e-ea293fdb1e8c",
   "metadata": {},
   "outputs": [
    {
     "data": {
      "text/plain": [
       "list"
      ]
     },
     "execution_count": 25,
     "metadata": {},
     "output_type": "execute_result"
    }
   ],
   "source": [
    "# Lista con diferentes tipos\n",
    "\n",
    "arr = [3,  2.5, \"crayola\"]\n",
    "\n",
    "type(arr)"
   ]
  },
  {
   "cell_type": "code",
   "execution_count": 2,
   "id": "998c2271-14d1-48a8-aad1-eb0b9d232cc0",
   "metadata": {},
   "outputs": [
    {
     "data": {
      "text/plain": [
       "int"
      ]
     },
     "execution_count": 2,
     "metadata": {},
     "output_type": "execute_result"
    }
   ],
   "source": [
    "type(arr[0])"
   ]
  },
  {
   "cell_type": "code",
   "execution_count": 3,
   "id": "e10dcd00-ec50-45b0-8da6-2afcb4d7ffb3",
   "metadata": {},
   "outputs": [
    {
     "data": {
      "text/plain": [
       "float"
      ]
     },
     "execution_count": 3,
     "metadata": {},
     "output_type": "execute_result"
    }
   ],
   "source": [
    "type(arr[1])"
   ]
  },
  {
   "cell_type": "code",
   "execution_count": 4,
   "id": "6799ed3b-7be3-4a77-9e4b-b3ee14a94a9c",
   "metadata": {},
   "outputs": [
    {
     "data": {
      "text/plain": [
       "str"
      ]
     },
     "execution_count": 4,
     "metadata": {},
     "output_type": "execute_result"
    }
   ],
   "source": [
    "type(arr[2])"
   ]
  },
  {
   "cell_type": "code",
   "execution_count": 1,
   "id": "9a8e0116-b138-41b8-8318-28db478f9cd7",
   "metadata": {},
   "outputs": [
    {
     "data": {
      "text/plain": [
       "int"
      ]
     },
     "execution_count": 1,
     "metadata": {},
     "output_type": "execute_result"
    }
   ],
   "source": [
    "type(1000)"
   ]
  },
  {
   "cell_type": "code",
   "execution_count": 16,
   "id": "22730335-719b-4841-b2fd-c503fcc193b1",
   "metadata": {},
   "outputs": [],
   "source": [
    "x=10"
   ]
  },
  {
   "cell_type": "code",
   "execution_count": 22,
   "id": "69a8bada-0f28-4af5-beb0-a2e48179ffa3",
   "metadata": {},
   "outputs": [],
   "source": [
    "x= x+1"
   ]
  },
  {
   "cell_type": "code",
   "execution_count": 23,
   "id": "94f3727c-ea94-49a3-a0e5-c4f68e20e997",
   "metadata": {},
   "outputs": [
    {
     "name": "stdout",
     "output_type": "stream",
     "text": [
      "14\n"
     ]
    }
   ],
   "source": [
    "print(x)"
   ]
  },
  {
   "cell_type": "code",
   "execution_count": 26,
   "id": "5825eb3f-84cd-40ae-b65f-b3d519129980",
   "metadata": {},
   "outputs": [
    {
     "data": {
      "text/plain": [
       "88"
      ]
     },
     "execution_count": 26,
     "metadata": {},
     "output_type": "execute_result"
    }
   ],
   "source": [
    "from sys import getsizeof\n",
    "getsizeof(arr)"
   ]
  },
  {
   "cell_type": "code",
   "execution_count": 27,
   "id": "58536075-076a-4e58-8b81-5e6f64db5209",
   "metadata": {},
   "outputs": [
    {
     "data": {
      "text/plain": [
       "28"
      ]
     },
     "execution_count": 27,
     "metadata": {},
     "output_type": "execute_result"
    }
   ],
   "source": [
    "getsizeof(1000)"
   ]
  },
  {
   "cell_type": "code",
   "execution_count": 28,
   "id": "af747eeb-6042-4568-8d6a-3162f5e14cb8",
   "metadata": {},
   "outputs": [
    {
     "data": {
      "text/plain": [
       "51"
      ]
     },
     "execution_count": 28,
     "metadata": {},
     "output_type": "execute_result"
    }
   ],
   "source": [
    "getsizeof(\"hola mundo\")"
   ]
  },
  {
   "cell_type": "code",
   "execution_count": 29,
   "id": "ffc117f4-5794-4d90-b8f2-d0b825a1ee3a",
   "metadata": {},
   "outputs": [
    {
     "data": {
      "text/plain": [
       "3"
      ]
     },
     "execution_count": 29,
     "metadata": {},
     "output_type": "execute_result"
    }
   ],
   "source": [
    "len(arr)"
   ]
  },
  {
   "cell_type": "code",
   "execution_count": 30,
   "id": "c0e29c93-5de6-4db5-85d6-2ee19fea824e",
   "metadata": {},
   "outputs": [],
   "source": [
    "arr.append(200)"
   ]
  },
  {
   "cell_type": "code",
   "execution_count": 31,
   "id": "727c1524-caed-44f1-ad2c-cad52da4fa93",
   "metadata": {},
   "outputs": [
    {
     "name": "stdout",
     "output_type": "stream",
     "text": [
      "[3, 2.5, 'crayola', 200]\n"
     ]
    }
   ],
   "source": [
    "print(arr)"
   ]
  },
  {
   "cell_type": "code",
   "execution_count": 32,
   "id": "83a1670e-dbed-4273-925f-961bd835b67d",
   "metadata": {},
   "outputs": [
    {
     "data": {
      "text/plain": [
       "4"
      ]
     },
     "execution_count": 32,
     "metadata": {},
     "output_type": "execute_result"
    }
   ],
   "source": [
    "len(arr)"
   ]
  },
  {
   "cell_type": "code",
   "execution_count": 33,
   "id": "9224607d-b0b6-451a-9dc8-dadc66e6a695",
   "metadata": {},
   "outputs": [],
   "source": [
    "#arreglos dinamicos"
   ]
  },
  {
   "cell_type": "code",
   "execution_count": null,
   "id": "c25e9a78-db74-4234-9bcf-fa740cc3456a",
   "metadata": {},
   "outputs": [],
   "source": [
    "class Arreglo_Dinamico:"
   ]
  },
  {
   "cell_type": "code",
   "execution_count": 34,
   "id": "047ab3c0-ca21-4242-a13c-88ff5dcef7e2",
   "metadata": {},
   "outputs": [
    {
     "name": "stdout",
     "output_type": "stream",
     "text": [
      "[0, 0, 0, 0, 0, 0]\n"
     ]
    }
   ],
   "source": [
    "arr = [2, 3, 5]\n",
    "tam = 3\n",
    "fin = 2\n",
    "\n",
    "nuevo_arr = [0]*(2*tam)\n",
    "print(nuevo_arr)"
   ]
  },
  {
   "cell_type": "code",
   "execution_count": 43,
   "id": "31f6e7b9-c49f-41e2-a0cf-bc86067aa3b9",
   "metadata": {},
   "outputs": [
    {
     "name": "stdout",
     "output_type": "stream",
     "text": [
      "[2, 3, 5, 7, 0, 0]\n"
     ]
    }
   ],
   "source": [
    "for i in range(0, fin + 1):\n",
    "    nuevo_arr[i] = arr[i]\n",
    "nuevo_arr[tam] = 7\n",
    "tam += 1\n",
    "print(nuevo_arr)"
   ]
  },
  {
   "cell_type": "code",
   "execution_count": 37,
   "id": "a3e198e8-b0bb-4d52-9e30-22cea58edb14",
   "metadata": {},
   "outputs": [
    {
     "name": "stdout",
     "output_type": "stream",
     "text": [
      "Me gusta la: manzana\n",
      "Me gusta la: pera\n",
      "Me gusta la: durazno\n",
      "Me gusta la: cereza\n"
     ]
    }
   ],
   "source": [
    "frutas = [\"manzana\", \"pera\", \"durazno\", \"cereza\"]\n",
    "for fruta in frutas:\n",
    "    print(\"Me gusta la: \" + fruta)"
   ]
  },
  {
   "cell_type": "code",
   "execution_count": 40,
   "id": "e3b947ff-7b6d-4d01-81c7-2a0cfdfa042d",
   "metadata": {},
   "outputs": [
    {
     "name": "stdout",
     "output_type": "stream",
     "text": [
      "numero 1\n",
      "numero 2\n",
      "numero 3\n",
      "numero 4\n",
      "numero 5\n",
      "numero 6\n",
      "numero 7\n",
      "numero 8\n",
      "numero 9\n",
      "numero 10\n"
     ]
    }
   ],
   "source": [
    "for i in [1,2,3,4,5,6,7,8,9,10]:\n",
    "    print(\"numero\",i)"
   ]
  },
  {
   "cell_type": "code",
   "execution_count": 41,
   "id": "3bfd5827-7d3f-4dab-9abf-8a415419d4ff",
   "metadata": {},
   "outputs": [
    {
     "name": "stdout",
     "output_type": "stream",
     "text": [
      "10 11 12 13 14 15 16 17 18 19 20\n"
     ]
    }
   ],
   "source": [
    "print(*range(10,21))"
   ]
  },
  {
   "cell_type": "code",
   "execution_count": null,
   "id": "ca3b4445-3498-4858-9188-c935bf1bb14f",
   "metadata": {},
   "outputs": [],
   "source": []
  }
 ],
 "metadata": {
  "kernelspec": {
   "display_name": "Python 3 (ipykernel)",
   "language": "python",
   "name": "python3"
  },
  "language_info": {
   "codemirror_mode": {
    "name": "ipython",
    "version": 3
   },
   "file_extension": ".py",
   "mimetype": "text/x-python",
   "name": "python",
   "nbconvert_exporter": "python",
   "pygments_lexer": "ipython3",
   "version": "3.13.5"
  }
 },
 "nbformat": 4,
 "nbformat_minor": 5
}
