{
  "nbformat": 4,
  "nbformat_minor": 0,
  "metadata": {
    "colab": {
      "provenance": []
    },
    "kernelspec": {
      "name": "python3",
      "display_name": "Python 3"
    },
    "language_info": {
      "name": "python"
    }
  },
  "cells": [
    {
      "cell_type": "code",
      "execution_count": 13,
      "metadata": {
        "id": "anKMCfARtTpt"
      },
      "outputs": [],
      "source": [
        "class Arreglo_Dinamico:\n",
        "    def __init__(self):\n",
        "        self.datos = []\n",
        "        self.capacidad = 0\n",
        "        self.tamaño = 0\n",
        "    def insertar_elemento(self, x):\n",
        "        if self.capacidad == 0:\n",
        "            self.capacidad = 1\n",
        "        if self.capacidad == self.tamaño:\n",
        "            self.capacidad = 2*self.capacidad\n",
        "        nuevo_arr = [0]*self.capacidad\n",
        "        for i in range(0, self.tamaño):\n",
        "            nuevo_arr[i] = self.datos[i]\n",
        "        nuevo_arr[self.tamaño]=x\n",
        "        self.tamaño += 1\n",
        "        self.datos = nuevo_arr\n",
        "    def eliminar_elemento(self):\n",
        "      if self.capacidad==0:\n",
        "        return\n",
        "      self.tamaño -= 1\n",
        "      #temp = self.capacidad[self.tamaño]\n",
        "      if (self.capacidad/2) >= (self.tamaño):\n",
        "          self.capacidad = int(self.capacidad*(3/4))\n",
        "          nuevo_arr = [0]*self.capacidad\n",
        "          for i in range(0, self.tamaño):\n",
        "            nuevo_arr[i] = self.datos[i]\n",
        "          self.datos = nuevo_arr\n",
        "      #return temp\n",
        "    def __repr__(self): #metodos magicos\n",
        "        return str(self.datos[0:self.tamaño])"
      ]
    },
    {
      "cell_type": "code",
      "source": [
        "arr = Arreglo_Dinamico()\n",
        "arr.insertar_elemento(1)\n",
        "arr.insertar_elemento(2)\n",
        "arr.insertar_elemento(3)\n",
        "print(arr)\n",
        "arr.eliminar_elemento()\n",
        "arr.eliminar_elemento()\n",
        "arr.eliminar_elemento()\n",
        "print(arr)"
      ],
      "metadata": {
        "colab": {
          "base_uri": "https://localhost:8080/"
        },
        "id": "4QaTRG5P0TTI",
        "outputId": "ec9cd348-ba8f-4c77-f0c5-4b41126ccf39"
      },
      "execution_count": 14,
      "outputs": [
        {
          "output_type": "stream",
          "name": "stdout",
          "text": [
            "[1, 2, 3]\n",
            "[]\n"
          ]
        }
      ]
    },
    {
      "cell_type": "code",
      "source": [
        "class Pila(Arreglo_Dinamico):\n",
        "  def push(self, x):\n",
        "    super().insertar_elemento(x)\n",
        "  def pop(self):\n",
        "    return super().eliminar_elemento()"
      ],
      "metadata": {
        "id": "aM-AliSOzl_W"
      },
      "execution_count": 15,
      "outputs": []
    },
    {
      "cell_type": "code",
      "source": [
        "pila = Pila()\n",
        "pila.push(1)\n",
        "pila.push(2)\n",
        "pila.push(3)\n",
        "pila.push(4)\n",
        "pila.push(5)\n",
        "print(pila)\n",
        "pila.pop()\n",
        "pila.pop()\n",
        "print(pila)"
      ],
      "metadata": {
        "colab": {
          "base_uri": "https://localhost:8080/"
        },
        "id": "LQqXifNx2ii3",
        "outputId": "85fce078-36a3-4589-d340-2f467ca0bc69"
      },
      "execution_count": 16,
      "outputs": [
        {
          "output_type": "stream",
          "name": "stdout",
          "text": [
            "[1, 2, 3, 4, 5]\n",
            "[1, 2, 3]\n"
          ]
        }
      ]
    },
    {
      "cell_type": "code",
      "source": [
        "arr2 = [0]*8\n",
        "inicio = 0\n",
        "fin = 0"
      ],
      "metadata": {
        "id": "jkMz7KmU24wt"
      },
      "execution_count": 39,
      "outputs": []
    },
    {
      "cell_type": "code",
      "source": [
        "#insertar un 1\n",
        "arr2[fin] = 3\n",
        "fin = (fin+1)%8\n",
        "print(arr2)"
      ],
      "metadata": {
        "colab": {
          "base_uri": "https://localhost:8080/"
        },
        "id": "XTmcGCt05f-i",
        "outputId": "de3f41ae-d07b-4398-b824-397239b15ee8"
      },
      "execution_count": 58,
      "outputs": [
        {
          "output_type": "stream",
          "name": "stdout",
          "text": [
            "[3, 3, 3, 2, 2, 2, 2, 3]\n"
          ]
        }
      ]
    },
    {
      "cell_type": "code",
      "source": [],
      "metadata": {
        "id": "mLK9kyzb5g-w"
      },
      "execution_count": null,
      "outputs": []
    }
  ]
}