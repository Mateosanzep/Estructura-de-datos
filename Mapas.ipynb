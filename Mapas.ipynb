{
  "nbformat": 4,
  "nbformat_minor": 0,
  "metadata": {
    "colab": {
      "provenance": [],
      "authorship_tag": "ABX9TyM9IkxAdEPJ2EfEm2rMdcYS",
      "include_colab_link": true
    },
    "kernelspec": {
      "name": "python3",
      "display_name": "Python 3"
    },
    "language_info": {
      "name": "python"
    }
  },
  "cells": [
    {
      "cell_type": "markdown",
      "metadata": {
        "id": "view-in-github",
        "colab_type": "text"
      },
      "source": [
        "<a href=\"https://colab.research.google.com/github/Mateosanzep/Estructura-de-datos/blob/main/Mapas.ipynb\" target=\"_parent\"><img src=\"https://colab.research.google.com/assets/colab-badge.svg\" alt=\"Open In Colab\"/></a>"
      ]
    },
    {
      "cell_type": "markdown",
      "source": [
        "* Cada elemento tiene su posicion\n",
        "* Usa una criba de Eratostenes\n",
        "\n",
        "\n",
        "\n"
      ],
      "metadata": {
        "id": "BzhSMgzK4l1y"
      }
    },
    {
      "cell_type": "code",
      "execution_count": null,
      "metadata": {
        "colab": {
          "base_uri": "https://localhost:8080/"
        },
        "id": "6fHnbke44MbG",
        "outputId": "1bb6b8bd-b12c-406d-a8c1-96281754f5da"
      },
      "outputs": [
        {
          "output_type": "stream",
          "name": "stdout",
          "text": [
            "512573 si es primo\n"
          ]
        }
      ],
      "source": [
        "n = 512573\n",
        "for i in range(2, n):\n",
        "  if n%i == 0:\n",
        "    print(f\"{n} no es primo, es deivicible entre {i}\")\n",
        "    break\n",
        "else:\n",
        "  print(f\"{n} si es primo\")"
      ]
    },
    {
      "cell_type": "code",
      "source": [
        "lista = 100*[True]\n",
        "def imprimir():\n",
        "  for i in range(0,100,10):\n",
        "    print(lista[i:i+10])\n",
        "imprimir()"
      ],
      "metadata": {
        "colab": {
          "base_uri": "https://localhost:8080/"
        },
        "id": "bTlAtLxJ6nOY",
        "outputId": "cee1c2f3-6228-4232-c2bd-9957ff7e22e8"
      },
      "execution_count": null,
      "outputs": [
        {
          "output_type": "stream",
          "name": "stdout",
          "text": [
            "[True, True, True, True, True, True, True, True, True, True]\n",
            "[True, True, True, True, True, True, True, True, True, True]\n",
            "[True, True, True, True, True, True, True, True, True, True]\n",
            "[True, True, True, True, True, True, True, True, True, True]\n",
            "[True, True, True, True, True, True, True, True, True, True]\n",
            "[True, True, True, True, True, True, True, True, True, True]\n",
            "[True, True, True, True, True, True, True, True, True, True]\n",
            "[True, True, True, True, True, True, True, True, True, True]\n",
            "[True, True, True, True, True, True, True, True, True, True]\n",
            "[True, True, True, True, True, True, True, True, True, True]\n"
          ]
        }
      ]
    },
    {
      "cell_type": "code",
      "source": [
        "lista[0]= False\n",
        "lista[1]= False\n",
        "imprimir()"
      ],
      "metadata": {
        "colab": {
          "base_uri": "https://localhost:8080/"
        },
        "id": "Szb_5z18AwqB",
        "outputId": "74b88ca9-d6e0-4074-91af-0aa6cc260424"
      },
      "execution_count": null,
      "outputs": [
        {
          "output_type": "stream",
          "name": "stdout",
          "text": [
            "[False, False, True, True, True, True, True, True, True, True]\n",
            "[True, True, True, True, True, True, True, True, True, True]\n",
            "[True, True, True, True, True, True, True, True, True, True]\n",
            "[True, True, True, True, True, True, True, True, True, True]\n",
            "[True, True, True, True, True, True, True, True, True, True]\n",
            "[True, True, True, True, True, True, True, True, True, True]\n",
            "[True, True, True, True, True, True, True, True, True, True]\n",
            "[True, True, True, True, True, True, True, True, True, True]\n",
            "[True, True, True, True, True, True, True, True, True, True]\n",
            "[True, True, True, True, True, True, True, True, True, True]\n"
          ]
        }
      ]
    },
    {
      "cell_type": "code",
      "source": [
        "for i in range(2+2, 100,2):\n",
        "  lista[i]=False\n",
        "imprimir()"
      ],
      "metadata": {
        "colab": {
          "base_uri": "https://localhost:8080/"
        },
        "id": "NljabYWIBHwS",
        "outputId": "2965a5c0-35a5-462b-98ec-c2a5401877b2"
      },
      "execution_count": null,
      "outputs": [
        {
          "output_type": "stream",
          "name": "stdout",
          "text": [
            "[False, False, True, True, False, True, False, True, False, True]\n",
            "[False, True, False, True, False, True, False, True, False, True]\n",
            "[False, True, False, True, False, True, False, True, False, True]\n",
            "[False, True, False, True, False, True, False, True, False, True]\n",
            "[False, True, False, True, False, True, False, True, False, True]\n",
            "[False, True, False, True, False, True, False, True, False, True]\n",
            "[False, True, False, True, False, True, False, True, False, True]\n",
            "[False, True, False, True, False, True, False, True, False, True]\n",
            "[False, True, False, True, False, True, False, True, False, True]\n",
            "[False, True, False, True, False, True, False, True, False, True]\n"
          ]
        }
      ]
    },
    {
      "cell_type": "code",
      "source": [
        "for i in range(3+3, 100, 3):\n",
        "  lista[i]= False\n",
        "imprimir()"
      ],
      "metadata": {
        "colab": {
          "base_uri": "https://localhost:8080/"
        },
        "id": "54U-3BftBbfq",
        "outputId": "526b902d-800e-445f-e1d4-f88c7083fb8f"
      },
      "execution_count": null,
      "outputs": [
        {
          "output_type": "stream",
          "name": "stdout",
          "text": [
            "[False, False, True, True, False, True, False, True, False, False]\n",
            "[False, True, False, True, False, False, False, True, False, True]\n",
            "[False, False, False, True, False, True, False, False, False, True]\n",
            "[False, True, False, False, False, True, False, True, False, False]\n",
            "[False, True, False, True, False, False, False, True, False, True]\n",
            "[False, False, False, True, False, True, False, False, False, True]\n",
            "[False, True, False, False, False, True, False, True, False, False]\n",
            "[False, True, False, True, False, False, False, True, False, True]\n",
            "[False, False, False, True, False, True, False, False, False, True]\n",
            "[False, True, False, False, False, True, False, True, False, False]\n"
          ]
        }
      ]
    },
    {
      "cell_type": "code",
      "source": [
        "for i in range(5+5, 100, 5):\n",
        "  lista[i]= False\n",
        "imprimir()"
      ],
      "metadata": {
        "colab": {
          "base_uri": "https://localhost:8080/"
        },
        "id": "-WbyiMimBoVi",
        "outputId": "8690c955-09e4-4e26-cac2-25977087a300"
      },
      "execution_count": null,
      "outputs": [
        {
          "output_type": "stream",
          "name": "stdout",
          "text": [
            "[False, False, True, True, False, True, False, True, False, False]\n",
            "[False, True, False, True, False, False, False, True, False, True]\n",
            "[False, False, False, True, False, False, False, False, False, True]\n",
            "[False, True, False, False, False, False, False, True, False, False]\n",
            "[False, True, False, True, False, False, False, True, False, True]\n",
            "[False, False, False, True, False, False, False, False, False, True]\n",
            "[False, True, False, False, False, False, False, True, False, False]\n",
            "[False, True, False, True, False, False, False, True, False, True]\n",
            "[False, False, False, True, False, False, False, False, False, True]\n",
            "[False, True, False, False, False, False, False, True, False, False]\n"
          ]
        }
      ]
    },
    {
      "cell_type": "code",
      "source": [
        "for i in range(7+7, 100, 7):\n",
        "  lista[i]= False\n",
        "imprimir()"
      ],
      "metadata": {
        "colab": {
          "base_uri": "https://localhost:8080/"
        },
        "id": "9mVpmyb7B5Iq",
        "outputId": "6c2a42cf-c8a1-458d-c7f8-c1a7edf329de"
      },
      "execution_count": null,
      "outputs": [
        {
          "output_type": "stream",
          "name": "stdout",
          "text": [
            "[False, False, True, True, False, True, False, True, False, False]\n",
            "[False, True, False, True, False, False, False, True, False, True]\n",
            "[False, False, False, True, False, False, False, False, False, True]\n",
            "[False, True, False, False, False, False, False, True, False, False]\n",
            "[False, True, False, True, False, False, False, True, False, False]\n",
            "[False, False, False, True, False, False, False, False, False, True]\n",
            "[False, True, False, False, False, False, False, True, False, False]\n",
            "[False, True, False, True, False, False, False, False, False, True]\n",
            "[False, False, False, True, False, False, False, False, False, True]\n",
            "[False, False, False, False, False, False, False, True, False, False]\n"
          ]
        }
      ]
    },
    {
      "cell_type": "code",
      "source": [
        "lista[47]"
      ],
      "metadata": {
        "colab": {
          "base_uri": "https://localhost:8080/"
        },
        "id": "ctegzH4ECC9C",
        "outputId": "ac7814c2-681e-4b8d-f9f2-d936bcf19771"
      },
      "execution_count": null,
      "outputs": [
        {
          "output_type": "execute_result",
          "data": {
            "text/plain": [
              "True"
            ]
          },
          "metadata": {},
          "execution_count": 14
        }
      ]
    },
    {
      "cell_type": "markdown",
      "source": [
        "#Ejercicio de autoamtizar la criba"
      ],
      "metadata": {
        "id": "ymiMZqepCu94"
      }
    },
    {
      "cell_type": "code",
      "source": [
        "import math\n",
        "\n",
        "num = int(input())\n",
        "lista2 = [\"0\"] * num\n",
        "lista2[0] = \"1\"\n",
        "lista2[1] = \"1\"\n",
        "\n",
        "for i in range(2, int(math.sqrt(num)) + 1):\n",
        "    if lista2[i] == \"0\":\n",
        "        for j in range(i * i, num, i):\n",
        "            lista2[j] = \"1\"\n",
        "\n",
        "def imprimir2():\n",
        "    for i in range(0, num, 10):\n",
        "        print(\" \".join(lista2[i:i+10]))\n",
        "imprimir2()"
      ],
      "metadata": {
        "colab": {
          "base_uri": "https://localhost:8080/"
        },
        "id": "f590dO7YCquX",
        "outputId": "aef8311f-d765-4f9f-bebb-e96bdbef435c"
      },
      "execution_count": null,
      "outputs": [
        {
          "output_type": "stream",
          "name": "stdout",
          "text": [
            "100\n",
            "1 1 0 0 1 0 1 0 1 1\n",
            "1 0 1 0 1 1 1 0 1 0\n",
            "1 1 1 0 1 1 1 1 1 0\n",
            "1 0 1 1 1 1 1 0 1 1\n",
            "1 0 1 0 1 1 1 0 1 1\n",
            "1 1 1 0 1 1 1 1 1 0\n",
            "1 0 1 1 1 1 1 0 1 1\n",
            "1 0 1 0 1 1 1 1 1 0\n",
            "1 1 1 0 1 1 1 1 1 0\n",
            "1 1 1 1 1 1 1 0 1 1\n"
          ]
        }
      ]
    },
    {
      "cell_type": "code",
      "source": [
        "import math\n",
        "\n",
        "num2 = 100_000\n",
        "lista3 = [0] * num2\n",
        "lista3[0] = 1\n",
        "lista3[1] = 1\n",
        "\n",
        "for i in range(2, int(math.sqrt(num2)) + 1):\n",
        "    if lista3[i] == 0:\n",
        "        for j in range(i * i, num2, i):\n",
        "            lista3[j] = 1\n",
        "ask = int(input())\n",
        "if lista3[ask] == 1:\n",
        "  print(\"NO\")\n",
        "else:\n",
        "  print(\"SI\")"
      ],
      "metadata": {
        "id": "sOkcgtn8GYm5",
        "colab": {
          "base_uri": "https://localhost:8080/"
        },
        "outputId": "6866d100-125b-4c26-98e1-6e129a1053b3"
      },
      "execution_count": null,
      "outputs": [
        {
          "output_type": "stream",
          "name": "stdout",
          "text": [
            "3623\n",
            "YES\n"
          ]
        }
      ]
    },
    {
      "cell_type": "code",
      "source": [
        "p1 = \"omar\"\n",
        "hash(p1)"
      ],
      "metadata": {
        "id": "Wzd22hp9_9VF",
        "colab": {
          "base_uri": "https://localhost:8080/"
        },
        "outputId": "ca035ce1-0a3c-43ff-851c-70fc4c1a3c22"
      },
      "execution_count": 1,
      "outputs": [
        {
          "output_type": "execute_result",
          "data": {
            "text/plain": [
              "3176779185303429743"
            ]
          },
          "metadata": {},
          "execution_count": 1
        }
      ]
    },
    {
      "cell_type": "code",
      "source": [
        "p2 = \"amor\"\n",
        "hash(p2)"
      ],
      "metadata": {
        "colab": {
          "base_uri": "https://localhost:8080/"
        },
        "id": "4nLYr-82NMxH",
        "outputId": "efd971d1-2b10-4edd-8c70-97454574abcb"
      },
      "execution_count": 2,
      "outputs": [
        {
          "output_type": "execute_result",
          "data": {
            "text/plain": [
              "-4915441767933636407"
            ]
          },
          "metadata": {},
          "execution_count": 2
        }
      ]
    },
    {
      "cell_type": "code",
      "source": [
        "tam = 5000\n",
        "print(hash(p1)%tam)\n",
        "print(hash(p2)%tam)"
      ],
      "metadata": {
        "colab": {
          "base_uri": "https://localhost:8080/"
        },
        "id": "qSgnK7oaNVjN",
        "outputId": "58235549-d7cd-4d63-da65-3d66f60b46e5"
      },
      "execution_count": 3,
      "outputs": [
        {
          "output_type": "stream",
          "name": "stdout",
          "text": [
            "4743\n",
            "3593\n"
          ]
        }
      ]
    },
    {
      "cell_type": "code",
      "source": [
        "hash(3.14)"
      ],
      "metadata": {
        "colab": {
          "base_uri": "https://localhost:8080/"
        },
        "id": "cvzXiy24NlxN",
        "outputId": "e88780af-3f3e-44de-c23f-dffb3d7d130f"
      },
      "execution_count": 4,
      "outputs": [
        {
          "output_type": "execute_result",
          "data": {
            "text/plain": [
              "322818021289917443"
            ]
          },
          "metadata": {},
          "execution_count": 4
        }
      ]
    },
    {
      "cell_type": "code",
      "source": [
        "hash(100)"
      ],
      "metadata": {
        "colab": {
          "base_uri": "https://localhost:8080/"
        },
        "id": "Bf1tyr_pO-F5",
        "outputId": "f57ac8ec-73c5-4aec-df98-5e8fa9134cf7"
      },
      "execution_count": 5,
      "outputs": [
        {
          "output_type": "execute_result",
          "data": {
            "text/plain": [
              "100"
            ]
          },
          "metadata": {},
          "execution_count": 5
        }
      ]
    },
    {
      "cell_type": "code",
      "source": [
        "f\"{1/3:.20f}\""
      ],
      "metadata": {
        "colab": {
          "base_uri": "https://localhost:8080/",
          "height": 35
        },
        "id": "ynjdkQ7mPDUM",
        "outputId": "407fe877-ca4d-4123-b48c-32457b07d5f5"
      },
      "execution_count": 6,
      "outputs": [
        {
          "output_type": "execute_result",
          "data": {
            "text/plain": [
              "'0.33333333333333331483'"
            ],
            "application/vnd.google.colaboratory.intrinsic+json": {
              "type": "string"
            }
          },
          "metadata": {},
          "execution_count": 6
        }
      ]
    },
    {
      "cell_type": "code",
      "source": [
        "x=0b001010000010001\n",
        "x%tam"
      ],
      "metadata": {
        "colab": {
          "base_uri": "https://localhost:8080/"
        },
        "id": "yHqroetfQmhm",
        "outputId": "e6f2953d-e23a-402e-b47e-175d9763ddb0"
      },
      "execution_count": 8,
      "outputs": [
        {
          "output_type": "execute_result",
          "data": {
            "text/plain": [
              "137"
            ]
          },
          "metadata": {},
          "execution_count": 8
        }
      ]
    },
    {
      "cell_type": "code",
      "source": [
        "tamaño = 5000\n",
        "mapa = [False]*tamaño\n",
        "def numerificar(elemento):\n",
        "  return hash(elemento)\n",
        "def agregar(mapa,elemento):\n",
        "  pos = numerificar(elemento)%tamaño\n",
        "  mapa[pos] = True\n",
        "def buscar(mapa, elemento):\n",
        "  pos = numerificar(elemento)%tamaño\n",
        "  if mapa[pos]==True:\n",
        "    print(\"Si esta\")\n",
        "  else:\n",
        "    print(\"No esta\")"
      ],
      "metadata": {
        "id": "2T5lU1IdRHzY"
      },
      "execution_count": 10,
      "outputs": []
    },
    {
      "cell_type": "code",
      "source": [
        "agregar(mapa, \"Juan\")\n",
        "agregar(mapa, \"Pedro\")\n",
        "agregar(mapa, 1024)\n",
        "agregar(mapa, 3.14)\n",
        "\n",
        "buscar(mapa, \"Juan\")\n",
        "buscar(mapa, \"Pedro\")\n",
        "buscar(mapa, 1024)\n",
        "buscar(mapa, 3.14)\n",
        "buscar(mapa, \"hola\")"
      ],
      "metadata": {
        "colab": {
          "base_uri": "https://localhost:8080/"
        },
        "id": "BaA0n86WSeGA",
        "outputId": "bbcb3c95-d9ac-4a63-e651-84a329f955d5"
      },
      "execution_count": 11,
      "outputs": [
        {
          "output_type": "stream",
          "name": "stdout",
          "text": [
            "Si esta\n",
            "Si esta\n",
            "Si esta\n",
            "Si esta\n",
            "No esta\n"
          ]
        }
      ]
    },
    {
      "cell_type": "code",
      "source": [
        "class Mapa:\n",
        "  def __init__(self, tam):\n",
        "      self.tamaño = tam\n",
        "      self.mapa = [False]*tam\n",
        "\n",
        "  def numerificar(self, elemento):\n",
        "    return hash(elemento)\n",
        "\n",
        "  def agregar(self,elemento):\n",
        "    pos = self.numerificar(elemento)%self.tamaño\n",
        "    self.mapa[pos] = True\n",
        "  def buscar(self, elemento):\n",
        "    pos = self.numerificar(elemento)%self.tamaño\n",
        "    if self.mapa[pos]==True:\n",
        "      print(\"Si esta\")\n",
        "      return True\n",
        "    else:\n",
        "      print(\"No esta\")\n",
        "      return False\n",
        "  def __getitem__(self,elemento):\n",
        "    return self.buscar(elemento)"
      ],
      "metadata": {
        "id": "WaARgff1TQaq"
      },
      "execution_count": 20,
      "outputs": []
    },
    {
      "cell_type": "code",
      "source": [
        "mi_mapa = Mapa(1000)\n",
        "mi_mapa.agregar(\"santiago\")\n",
        "mi_mapa.agregar(\"juan\")\n",
        "mi_mapa.agregar(25)\n",
        "\n",
        "mi_mapa[\"santiago\"]\n",
        "mi_mapa[\"juan\"]\n",
        "mi_mapa[25]\n",
        "mi_mapa[3.14];"
      ],
      "metadata": {
        "colab": {
          "base_uri": "https://localhost:8080/"
        },
        "id": "w6HmeSBaVGyK",
        "outputId": "4ba0921e-3380-4ec8-b05e-0d5be4ecfd7f"
      },
      "execution_count": 22,
      "outputs": [
        {
          "output_type": "stream",
          "name": "stdout",
          "text": [
            "Si esta\n",
            "Si esta\n",
            "Si esta\n",
            "No esta\n"
          ]
        }
      ]
    },
    {
      "cell_type": "code",
      "source": [
        "mi_mapa2 = set()\n",
        "mi_mapa2.add(\"juan\")\n",
        "mi_mapa2.add(\"pepe\")\n",
        "mi_mapa2.add(3.14)\n",
        "\n",
        "print(\"juan\" in mi_mapa2)\n",
        "print(\"pepe\" in mi_mapa2)\n",
        "print(3.14 in mi_mapa2)\n",
        "print(\"hola\" in mi_mapa2)"
      ],
      "metadata": {
        "colab": {
          "base_uri": "https://localhost:8080/"
        },
        "id": "gFc1ePsDVpnC",
        "outputId": "a9ca3121-2682-46ef-a87e-5319666c23af"
      },
      "execution_count": 25,
      "outputs": [
        {
          "output_type": "stream",
          "name": "stdout",
          "text": [
            "True\n",
            "True\n",
            "True\n",
            "False\n"
          ]
        }
      ]
    },
    {
      "cell_type": "code",
      "source": [
        "mi_mapa2"
      ],
      "metadata": {
        "colab": {
          "base_uri": "https://localhost:8080/"
        },
        "id": "y0aFvB6WXYTF",
        "outputId": "b3392d20-9d74-4908-b7e3-b81f3f463b8e"
      },
      "execution_count": 26,
      "outputs": [
        {
          "output_type": "execute_result",
          "data": {
            "text/plain": [
              "{3.14, 'juan', 'pepe'}"
            ]
          },
          "metadata": {},
          "execution_count": 26
        }
      ]
    },
    {
      "cell_type": "code",
      "source": [],
      "metadata": {
        "id": "etdMb_IwYzzg"
      },
      "execution_count": null,
      "outputs": []
    }
  ]
}